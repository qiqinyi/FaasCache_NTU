{
 "cells": [
  {
   "cell_type": "code",
   "execution_count": 147,
   "metadata": {},
   "outputs": [],
   "source": [
    "import os,sys\n",
    "import pickle\n",
    "import math\n",
    "import numpy as np\n",
    "import matplotlib \n",
    "import matplotlib.pyplot as plt\n",
    "from statsmodels.distributions.empirical_distribution import ECDF \n",
    "# This needs scipy==1.2.0 \n",
    "from LambdaData import *"
   ]
  },
  {
   "cell_type": "code",
   "execution_count": 196,
   "metadata": {},
   "outputs": [],
   "source": [
    "#trace_path = \"10-b.pckl\"\n",
    "trace_path = \"1000-c.pckl\"\n",
    "\n",
    "lambdas, input_trace = pickle.load(open(trace_path, \"rb\"))\n",
    "# input_trace : [(LambdaData, time)]"
   ]
  },
  {
   "cell_type": "code",
   "execution_count": 154,
   "metadata": {},
   "outputs": [],
   "source": [
    "k=input_trace[0][0].kind"
   ]
  },
  {
   "cell_type": "code",
   "execution_count": 158,
   "metadata": {},
   "outputs": [
    {
     "data": {
      "text/plain": [
       "5177"
      ]
     },
     "execution_count": 158,
     "metadata": {},
     "output_type": "execute_result"
    }
   ],
   "source": [
    "hash(k) % 10000"
   ]
  },
  {
   "cell_type": "code",
   "execution_count": null,
   "metadata": {},
   "outputs": [],
   "source": []
  },
  {
   "cell_type": "code",
   "execution_count": 227,
   "metadata": {},
   "outputs": [],
   "source": [
    "def SHARDS_reusedist(input_trace, R=0.01):\n",
    "    \"\"\" R is the sampling rate, like\"\"\"\n",
    "    #hash(k) % P < T\n",
    "    #R = T/P -> T=0.01P -> P > 100\n",
    "    P  = 10000 \n",
    "    T  = int(R*P)\n",
    "    \n",
    "    last_access = dict()\n",
    "    reuse_distances = []\n",
    "    current_bytes = 0\n",
    "    \n",
    "    for i, (d, t) in enumerate(input_trace):\n",
    "        k = d.kind \n",
    "        current_bytes += d.mem_size \n",
    "        if hash(k) % P < T: # chosen one \n",
    "            #Check if first access? \n",
    "            if k in last_access:\n",
    "                rd = (current_bytes - last_access[k]) - 2.0*d.mem_size \n",
    "                # Account for left and right access \n",
    "                last_access[k] = current_bytes \n",
    "                reuse_distances.append(rd)\n",
    "            else: # This is first access. \n",
    "                last_access[k] = current_bytes \n",
    "                #Ignore the reuse distance for the first access? \n",
    "    \n",
    "    reuse_distances = np.array(reuse_distances)\n",
    "    reuse_distances = reuse_distances*(1/R)\n",
    "    #print(last_access)\n",
    "    return reuse_distances\n",
    "            \n"
   ]
  },
  {
   "cell_type": "code",
   "execution_count": 228,
   "metadata": {},
   "outputs": [],
   "source": [
    "srds = SHARDS_reusedist(input_trace,0.1)"
   ]
  },
  {
   "cell_type": "code",
   "execution_count": 229,
   "metadata": {},
   "outputs": [
    {
     "data": {
      "text/plain": [
       "array([61670., 67290.,  2050., ..., 63840., 23050., 25840.])"
      ]
     },
     "execution_count": 229,
     "metadata": {},
     "output_type": "execute_result"
    }
   ],
   "source": [
    "srds"
   ]
  },
  {
   "cell_type": "code",
   "execution_count": 236,
   "metadata": {},
   "outputs": [
    {
     "data": {
      "text/plain": [
       "(0.0, 200000.0)"
      ]
     },
     "execution_count": 236,
     "metadata": {},
     "output_type": "execute_result"
    },
    {
     "data": {
      "image/png": "[encoded data removed]",
      "text/plain": [
       "<Figure size 432x288 with 1 Axes>"
      ]
     },
     "metadata": {},
     "output_type": "display_data"
    }
   ],
   "source": [
    "e3=ECDF(srds*0.1)\n",
    "plt.plot(e3.x,e3.y)\n",
    "plt.xlim((0,200000))"
   ]
  },
  {
   "cell_type": "code",
   "execution_count": 221,
   "metadata": {},
   "outputs": [
    {
     "data": {
      "text/plain": [
       "(array([4.16661e+05, 2.90000e+01, 9.00000e+00, 3.00000e+00, 2.00000e+00,\n",
       "        3.00000e+00, 3.00000e+00, 1.00000e+00, 1.00000e+00, 2.00000e+00]),\n",
       " array([0.00000000e+00, 4.28157599e+08, 8.56315198e+08, 1.28447280e+09,\n",
       "        1.71263040e+09, 2.14078800e+09, 2.56894559e+09, 2.99710319e+09,\n",
       "        3.42526079e+09, 3.85341839e+09, 4.28157599e+09]),\n",
       " <BarContainer object of 10 artists>)"
      ]
     },
     "execution_count": 221,
     "metadata": {},
     "output_type": "execute_result"
    },
    {
     "data": {
      "image/png": "[encoded data removed]",
      "text/plain": [
       "<Figure size 432x288 with 1 Axes>"
      ]
     },
     "metadata": {},
     "output_type": "display_data"
    }
   ],
   "source": [
    "plt.hist(srds)"
   ]
  },
  {
   "cell_type": "code",
   "execution_count": 185,
   "metadata": {},
   "outputs": [],
   "source": [
    "# a, b, c, b, a\n",
    "# <----------->\n",
    "# reuse dist = size of unique accesses\n",
    "# reuse dist = size(b) + size(c)\n",
    "N = len(input_trace)\n",
    "\n",
    "reuse_distances = []\n",
    "reuse_times = []\n",
    "\n",
    "for i, (d_left, t_left) in enumerate(input_trace):\n",
    "    left_kind = d_left.kind\n",
    "    local_reuse_set = dict()\n",
    "    \n",
    "    for j in range(i+1, N):\n",
    "        d, t = input_trace[j]\n",
    "        \n",
    "        if d.kind == left_kind or j == N :\n",
    "            # We have found the back marker.\n",
    "            current_rd = sum(local_reuse_set.values()) \n",
    "            # TODO: falling of the end\n",
    "            reuse_distances.append(current_rd)\n",
    "            reuse_times.append(t-t_left)\n",
    "            break\n",
    "        \n",
    "        # if different from left_kind \n",
    "        local_reuse_set[d.kind] = d.mem_size\n",
    "        \n",
    "reuse_distances = np.array(reuse_distances)\n",
    "reuse_times = np.array(reuse_times)"
   ]
  },
  {
   "cell_type": "code",
   "execution_count": 186,
   "metadata": {},
   "outputs": [
    {
     "data": {
      "text/plain": [
       "array([0, 0, 0, ..., 0, 0, 0])"
      ]
     },
     "execution_count": 186,
     "metadata": {},
     "output_type": "execute_result"
    }
   ],
   "source": [
    "reuse_distances"
   ]
  },
  {
   "cell_type": "code",
   "execution_count": 187,
   "metadata": {},
   "outputs": [],
   "source": [
    "def find_nearest_idx(array,value):\n",
    "    idx = np.searchsorted(array, value)\n",
    "    if idx > 0 and (idx == len(array) or math.fabs(value - array[idx-1]) < math.fabs(value - array[idx])):\n",
    "        return int(idx-1)\n",
    "    else:\n",
    "        return int(idx)"
   ]
  },
  {
   "cell_type": "code",
   "execution_count": 188,
   "metadata": {},
   "outputs": [
    {
     "data": {
      "text/plain": [
       "array([ 4000.,  4000.,  4000., ..., 10000., 10000., 10000.])"
      ]
     },
     "execution_count": 188,
     "metadata": {},
     "output_type": "execute_result"
    }
   ],
   "source": [
    "reuse_times"
   ]
  },
  {
   "cell_type": "code",
   "execution_count": 189,
   "metadata": {},
   "outputs": [],
   "source": [
    "def hit_rate(cache_size):\n",
    "    e=ECDF(reuse_distances)\n",
    "    hit_rate = e.y[find_nearest_idx(e.x,cache_size)]\n",
    "    return hit_rate"
   ]
  },
  {
   "cell_type": "code",
   "execution_count": 190,
   "metadata": {},
   "outputs": [
    {
     "data": {
      "text/plain": [
       "0.9989329539391784"
      ]
     },
     "execution_count": 190,
     "metadata": {},
     "output_type": "execute_result"
    }
   ],
   "source": [
    "hit_rate(100)"
   ]
  },
  {
   "cell_type": "code",
   "execution_count": 191,
   "metadata": {},
   "outputs": [
    {
     "data": {
      "text/plain": [
       "Text(0, 0.5, 'Hit Ratio')"
      ]
     },
     "execution_count": 191,
     "metadata": {},
     "output_type": "execute_result"
    },
    {
     "data": {
      "image/png": "[encoded data removed]",
      "text/plain": [
       "<Figure size 432x288 with 1 Axes>"
      ]
     },
     "metadata": {},
     "output_type": "display_data"
    }
   ],
   "source": [
    "e=ECDF(reuse_distances)\n",
    "plt.plot(e.x,e.y)\n",
    "#plt.semilogy()\n",
    "plt.xlabel(\"Cache Size\")\n",
    "plt.ylabel(\"Hit Ratio\")"
   ]
  },
  {
   "cell_type": "code",
   "execution_count": 15,
   "metadata": {},
   "outputs": [
    {
     "ename": "TypeError",
     "evalue": "'>' not supported between instances of 'list' and 'int'",
     "output_type": "error",
     "traceback": [
      "\u001b[0;31m---------------------------------------------------------------------------\u001b[0m",
      "\u001b[0;31mTypeError\u001b[0m                                 Traceback (most recent call last)",
      "\u001b[0;32m<ipython-input-15-4d03d37264de>\u001b[0m in \u001b[0;36m<module>\u001b[0;34m()\u001b[0m\n\u001b[0;32m----> 1\u001b[0;31m \u001b[0mreuse_times\u001b[0m\u001b[0;34m[\u001b[0m\u001b[0mreuse_times\u001b[0m\u001b[0;34m>\u001b[0m\u001b[0;36m1000\u001b[0m\u001b[0;34m]\u001b[0m\u001b[0;34m\u001b[0m\u001b[0;34m\u001b[0m\u001b[0m\n\u001b[0m",
      "\u001b[0;31mTypeError\u001b[0m: '>' not supported between instances of 'list' and 'int'"
     ]
    }
   ],
   "source": [
    "reuse_times[reuse_times>1000]"
   ]
  },
  {
   "cell_type": "markdown",
   "metadata": {},
   "source": []
  },
  {
   "cell_type": "code",
   "execution_count": 89,
   "metadata": {},
   "outputs": [],
   "source": [
    "et = ECDF(reuse_times)"
   ]
  },
  {
   "cell_type": "code",
   "execution_count": 90,
   "metadata": {},
   "outputs": [
    {
     "data": {
      "text/plain": [
       "[<matplotlib.lines.Line2D at 0x7f5d85a54cc0>]"
      ]
     },
     "execution_count": 90,
     "metadata": {},
     "output_type": "execute_result"
    },
    {
     "data": {
      "image/png": "[encoded data removed]",
      "text/plain": [
       "<matplotlib.figure.Figure at 0x7f5d85ba1438>"
      ]
     },
     "metadata": {},
     "output_type": "display_data"
    }
   ],
   "source": [
    "plt.plot(et.x, et.y)"
   ]
  },
  {
   "cell_type": "code",
   "execution_count": 8,
   "metadata": {},
   "outputs": [
    {
     "data": {
      "text/plain": [
       "<zip at 0x7f730e44e1c8>"
      ]
     },
     "execution_count": 8,
     "metadata": {},
     "output_type": "execute_result"
    }
   ],
   "source": [
    "zip(reuse_distances, reuse_times)"
   ]
  },
  {
   "cell_type": "code",
   "execution_count": 12,
   "metadata": {},
   "outputs": [],
   "source": [
    "import seaborn as sns"
   ]
  },
  {
   "cell_type": "code",
   "execution_count": 27,
   "metadata": {},
   "outputs": [
    {
     "name": "stderr",
     "output_type": "stream",
     "text": [
      "/usr/lib/python3/dist-packages/statsmodels/nonparametric/kernels.py:128: RuntimeWarning: divide by zero encountered in true_divide\n",
      "  return (1. / np.sqrt(2 * np.pi)) * np.exp(-(Xi - x)**2 / (h**2 * 2.))\n",
      "/usr/lib/python3/dist-packages/statsmodels/nonparametric/kernels.py:128: RuntimeWarning: invalid value encountered in true_divide\n",
      "  return (1. / np.sqrt(2 * np.pi)) * np.exp(-(Xi - x)**2 / (h**2 * 2.))\n",
      "/usr/lib/python3/dist-packages/statsmodels/nonparametric/_kernel_base.py:514: RuntimeWarning: invalid value encountered in true_divide\n",
      "  dens = Kval.prod(axis=1) / np.prod(bw[iscontinuous])\n",
      "/usr/local/lib/python3.6/dist-packages/matplotlib/contour.py:1494: UserWarning: Warning: converting a masked element to nan.\n",
      "  self.zmax = float(z.max())\n",
      "/usr/local/lib/python3.6/dist-packages/matplotlib/contour.py:1495: UserWarning: Warning: converting a masked element to nan.\n",
      "  self.zmin = float(z.min())\n",
      "/usr/local/lib/python3.6/dist-packages/matplotlib/contour.py:1130: RuntimeWarning: invalid value encountered in less\n",
      "  under = np.nonzero(lev < self.zmin)[0]\n",
      "/usr/local/lib/python3.6/dist-packages/matplotlib/contour.py:1132: RuntimeWarning: invalid value encountered in greater\n",
      "  over = np.nonzero(lev > self.zmax)[0]\n",
      "/usr/local/lib/python3.6/dist-packages/matplotlib/contour.py:1161: RuntimeWarning: invalid value encountered in greater\n",
      "  inside = (self.levels > self.zmin) & (self.levels < self.zmax)\n",
      "/usr/local/lib/python3.6/dist-packages/matplotlib/contour.py:1161: RuntimeWarning: invalid value encountered in less\n",
      "  inside = (self.levels > self.zmin) & (self.levels < self.zmax)\n",
      "/usr/local/lib/python3.6/dist-packages/seaborn/distributions.py:434: UserWarning: No contour levels were found within the data range.\n",
      "  cset = contour_func(xx, yy, z, n_levels, **kwargs)\n"
     ]
    },
    {
     "data": {
      "text/plain": [
       "<AxesSubplot:>"
      ]
     },
     "execution_count": 27,
     "metadata": {},
     "output_type": "execute_result"
    },
    {
     "data": {
      "image/png": "[encoded data removed]",
      "text/plain": [
       "<Figure size 432x288 with 1 Axes>"
      ]
     },
     "metadata": {},
     "output_type": "display_data"
    }
   ],
   "source": [
    "sns.kdeplot(reuse_distances, reuse_times)"
   ]
  },
  {
   "cell_type": "code",
   "execution_count": 92,
   "metadata": {},
   "outputs": [
    {
     "data": {
      "text/plain": [
       "(30000, 57907.5049283154)"
      ]
     },
     "execution_count": 92,
     "metadata": {},
     "output_type": "execute_result"
    },
    {
     "data": {
      "image/png": "[encoded data removed]",
      "text/plain": [
       "<matplotlib.figure.Figure at 0x7f5d78c53438>"
      ]
     },
     "metadata": {},
     "output_type": "display_data"
    }
   ],
   "source": [
    "plt.scatter(reuse_distances, reuse_times/1000.0, marker='.')\n",
    "plt.semilogy()\n",
    "plt.xlabel(\"Reuse Distance\")\n",
    "plt.ylabel(\"Reuse Time X 1000\")\n",
    "plt.xlim((30000))"
   ]
  },
  {
   "cell_type": "code",
   "execution_count": null,
   "metadata": {},
   "outputs": [],
   "source": [
    "# P(s,t) needed for footprint descr\n",
    "# P(t|s) relatively easier to compute \n",
    "# P(s,t) = P(s|t)P(t)\n",
    "# P(s,t) = P(t|s)P(s)\n",
    "#P(s|t) = P(t|s)P(s)/P(t) Bayes "
   ]
  },
  {
   "cell_type": "code",
   "execution_count": 36,
   "metadata": {},
   "outputs": [],
   "source": [
    "from scipy import stats"
   ]
  },
  {
   "cell_type": "code",
   "execution_count": 57,
   "metadata": {},
   "outputs": [],
   "source": [
    "xmin, xmax, ymin, ymax = reuse_distances.min(), reuse_distances.max(), reuse_times.min(), reuse_times.max()"
   ]
  },
  {
   "cell_type": "code",
   "execution_count": 105,
   "metadata": {},
   "outputs": [],
   "source": [
    "kernel = stats.gaussian_kde(np.vstack([reuse_distances, reuse_times]))"
   ]
  },
  {
   "cell_type": "code",
   "execution_count": 94,
   "metadata": {},
   "outputs": [
    {
     "data": {
      "text/plain": [
       "array([1.43160455e-09])"
      ]
     },
     "execution_count": 94,
     "metadata": {},
     "output_type": "execute_result"
    }
   ],
   "source": [
    "kernel.pdf([40,10000])"
   ]
  },
  {
   "cell_type": "code",
   "execution_count": 82,
   "metadata": {},
   "outputs": [],
   "source": [
    "X,Y=np.mgrid[xmin:xmax:100j, ymin:ymax:100j]"
   ]
  },
  {
   "cell_type": "code",
   "execution_count": 83,
   "metadata": {},
   "outputs": [
    {
     "data": {
      "text/plain": [
       "(100, 100)"
      ]
     },
     "execution_count": 83,
     "metadata": {},
     "output_type": "execute_result"
    }
   ],
   "source": [
    "Y.shape"
   ]
  },
  {
   "cell_type": "code",
   "execution_count": 101,
   "metadata": {},
   "outputs": [],
   "source": [
    "positions = np.vstack([X.ravel(), Y.ravel()])"
   ]
  },
  {
   "cell_type": "code",
   "execution_count": 110,
   "metadata": {},
   "outputs": [
    {
     "data": {
      "text/plain": [
       "array([3.93083851e-07])"
      ]
     },
     "execution_count": 110,
     "metadata": {},
     "output_type": "execute_result"
    }
   ],
   "source": [
    "kernel([0,1000])"
   ]
  },
  {
   "cell_type": "code",
   "execution_count": 139,
   "metadata": {},
   "outputs": [],
   "source": [
    "Z = np.reshape(kernel(positions).T, X.shape)"
   ]
  },
  {
   "cell_type": "code",
   "execution_count": 115,
   "metadata": {},
   "outputs": [],
   "source": [
    "Z = Z/np.max(Z)"
   ]
  },
  {
   "cell_type": "code",
   "execution_count": 141,
   "metadata": {},
   "outputs": [
    {
     "data": {
      "text/plain": [
       "(220.5882352925837, 37680000.0)"
      ]
     },
     "execution_count": 141,
     "metadata": {},
     "output_type": "execute_result"
    },
    {
     "data": {
      "image/png": "[encoded data removed]",
      "text/plain": [
       "<Figure size 360x1800 with 1 Axes>"
      ]
     },
     "metadata": {},
     "output_type": "display_data"
    }
   ],
   "source": [
    "fig, ax = plt.subplots()\n",
    "fig.set_size_inches((5,25))\n",
    "ax.imshow(np.rot90(Z), extent=[xmin,1,ymin,ymax],cmap=plt.cm.gist_earth_r)\n",
    "ax.semilogy()\n",
    "ax.set_xlim([xmin, 1])\n",
    "ax.set_ylim([ymin, ymax])"
   ]
  },
  {
   "cell_type": "code",
   "execution_count": 53,
   "metadata": {},
   "outputs": [],
   "source": [
    "def measure(n):\n",
    "\n",
    "    \"Measurement model, return two coupled measurements.\"\n",
    "\n",
    "    m1 = np.random.normal(size=n)\n",
    "\n",
    "    m2 = np.random.normal(scale=0.5, size=n)\n",
    "\n",
    "    return m1+m2, m1-m2"
   ]
  },
  {
   "cell_type": "code",
   "execution_count": 54,
   "metadata": {},
   "outputs": [],
   "source": [
    "m1, m2 = measure(2000)\n",
    "\n",
    "xmin = m1.min()\n",
    "\n",
    "xmax = m1.max()\n",
    "\n",
    "ymin = m2.min()\n",
    "\n",
    "ymax = m2.max()"
   ]
  },
  {
   "cell_type": "code",
   "execution_count": 55,
   "metadata": {},
   "outputs": [],
   "source": [
    "X, Y = np.mgrid[xmin:xmax:100j, ymin:ymax:100j]\n",
    "\n",
    "positions = np.vstack([X.ravel(), Y.ravel()])\n",
    "\n",
    "values = np.vstack([m1, m2])\n",
    "\n",
    "kernel = stats.gaussian_kde(values)\n",
    "\n",
    "Z = np.reshape(kernel(positions).T, X.shape)"
   ]
  },
  {
   "cell_type": "code",
   "execution_count": 56,
   "metadata": {},
   "outputs": [
    {
     "data": {
      "text/plain": [
       "(100, 100)"
      ]
     },
     "execution_count": 56,
     "metadata": {},
     "output_type": "execute_result"
    }
   ],
   "source": []
  },
  {
   "cell_type": "code",
   "execution_count": null,
   "metadata": {},
   "outputs": [],
   "source": []
  }
 ],
 "metadata": {
  "kernelspec": {
   "display_name": "Python 3",
   "language": "python",
   "name": "python3"
  },
  "language_info": {
   "codemirror_mode": {
    "name": "ipython",
    "version": 3
   },
   "file_extension": ".py",
   "mimetype": "text/x-python",
   "name": "python",
   "nbconvert_exporter": "python",
   "pygments_lexer": "ipython3",
   "version": "3.6.8"
  }
 },
 "nbformat": 4,
 "nbformat_minor": 2
}
