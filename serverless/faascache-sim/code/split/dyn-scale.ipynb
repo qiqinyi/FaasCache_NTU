{
 "cells": [
  {
   "cell_type": "code",
   "execution_count": 1,
   "metadata": {},
   "outputs": [],
   "source": [
    "import os,sys\n",
    "import pickle\n",
    "import math\n",
    "import numpy as np\n",
    "import pandas as pd\n",
    "import matplotlib \n",
    "import matplotlib.pyplot as plt\n",
    "from statsmodels.distributions.empirical_distribution import ECDF \n",
    "# This needs scipy==1.2.0 \n",
    "from LambdaData import *"
   ]
  },
  {
   "cell_type": "code",
   "execution_count": 2,
   "metadata": {},
   "outputs": [],
   "source": [
    "#trace_path = \"10-b.pckl\"\n",
    "trace_path = \"392-b.pckl\"\n",
    "\n",
    "lambdas, input_trace = pickle.load(open(trace_path, \"rb\"))\n",
    "# input_trace : [(LambdaData, time)]"
   ]
  },
  {
   "cell_type": "code",
   "execution_count": 3,
   "metadata": {},
   "outputs": [],
   "source": [
    "times = np.array([x[1] for x in input_trace])"
   ]
  },
  {
   "cell_type": "code",
   "execution_count": null,
   "metadata": {},
   "outputs": [],
   "source": []
  },
  {
   "cell_type": "code",
   "execution_count": 4,
   "metadata": {},
   "outputs": [
    {
     "name": "stdout",
     "output_type": "stream",
     "text": [
      "64.0869239420452\n"
     ]
    }
   ],
   "source": [
    "lam_avg = (times[-1]-times[0])/len(times)\n",
    "print(lam_avg)"
   ]
  },
  {
   "cell_type": "code",
   "execution_count": null,
   "metadata": {},
   "outputs": [],
   "source": []
  },
  {
   "cell_type": "code",
   "execution_count": 5,
   "metadata": {},
   "outputs": [],
   "source": [
    "iats = np.diff(times)\n",
    "piats = pd.Series(iats)\n",
    "moving_iats = piats.rolling(10000).mean()"
   ]
  },
  {
   "cell_type": "code",
   "execution_count": 6,
   "metadata": {},
   "outputs": [],
   "source": [
    "moving_iats.fillna(method='bfill', inplace=True)"
   ]
  },
  {
   "cell_type": "code",
   "execution_count": 7,
   "metadata": {},
   "outputs": [
    {
     "data": {
      "text/plain": [
       "64.08697147859607"
      ]
     },
     "execution_count": 7,
     "metadata": {},
     "output_type": "execute_result"
    }
   ],
   "source": [
    "np.mean(iats)"
   ]
  },
  {
   "cell_type": "code",
   "execution_count": 8,
   "metadata": {},
   "outputs": [],
   "source": [
    "ecdf = pickle.load(open(\"392-b-ecdf.pckl\",\"rb\"))"
   ]
  },
  {
   "cell_type": "code",
   "execution_count": 9,
   "metadata": {},
   "outputs": [
    {
     "data": {
      "image/png": "[encoded data removed]",
      "text/plain": [
       "<Figure size 432x288 with 1 Axes>"
      ]
     },
     "metadata": {},
     "output_type": "display_data"
    }
   ],
   "source": [
    "plt.plot(ecdf.x,ecdf.y)\n",
    "plt.semilogx()\n",
    "plt.grid()"
   ]
  },
  {
   "cell_type": "code",
   "execution_count": 10,
   "metadata": {},
   "outputs": [],
   "source": [
    "def find_nearest_idx(array,value):\n",
    "    idx = np.searchsorted(array, value)\n",
    "    if idx > 0 and (idx == len(array) or math.fabs(value - array[idx-1]) < math.fabs(value - array[idx])):\n",
    "        return int(idx-1)\n",
    "    else:\n",
    "        return int(idx)\n",
    "    \n",
    "def cache_size_for_HR(ecdf, target):\n",
    "    cache_size = ecdf.x[find_nearest_idx(ecdf.y, target)]\n",
    "    return cache_size\n",
    "\n",
    "def hit_rate(ecdf, cache_size):\n",
    "    hit_rate = ecdf.y[find_nearest_idx(ecdf.x,cache_size)]\n",
    "    return hit_rate\n"
   ]
  },
  {
   "cell_type": "code",
   "execution_count": 32,
   "metadata": {},
   "outputs": [],
   "source": [
    "def dyn_scale(ecdf, moving_iats):\n",
    "    prev_index = 0 #When the last change was made. \n",
    "    curr_cache_size = 5000 \n",
    "    max_cache_size = 20000 #eyeballed from the HRC\n",
    "    target_miss_speed = (1.0/65)*0.1 #10% miss rate \n",
    "    print(\"Target miss speed: \", target_miss_speed)\n",
    "    curr_hit_rate = hit_rate(ecdf, curr_cache_size)\n",
    "    miss_speeds_all = [] \n",
    "    avg_iat = np.mean(moving_iats)\n",
    "    updates_times = [0]\n",
    "    updates_sizes = [curr_cache_size]\n",
    "    for index, curr_iat in moving_iats.items():\n",
    "        lam_rate = 1.0/curr_iat \n",
    "        # Main problem: At some point we will need real miss-speeds...\n",
    "        miss_speed =  lam_rate*(1.0-curr_hit_rate)\n",
    "        miss_speeds_all.append(miss_speed)\n",
    "        error = miss_speed - target_miss_speed \n",
    "        relative_error = error/target_miss_speed \n",
    "        if relative_error > 0.3 or relative_error < -0.3 :\n",
    "            #print(\"Rel error: {}\",relative_error)\n",
    "            if index - prev_index > 10000 :\n",
    "                prev_index = index \n",
    "                #print(\"At {}: Miss-speed:{}, relative-error:{}\".format(index, miss_speed, relative_error))\n",
    "                target_miss_rate = (curr_iat/avg_iat)*0.1 # 0.9 is the original target hit-rate... \n",
    "                new_cache_size = cache_size_for_HR(ecdf, 1.0-target_miss_rate) \n",
    "                \n",
    "                if math.fabs(new_cache_size-curr_cache_size) > 100: #100 MB atleast.. \n",
    "                    \n",
    "                    new_hit_rate = hit_rate(ecdf, new_cache_size)\n",
    "                    \n",
    "                    print(\"At {}.Relerror:{}. Size from {} to {}, HR from {} to {}\".format(index, relative_error, curr_cache_size, \n",
    "                                                                    new_cache_size, curr_hit_rate, new_hit_rate))\n",
    "                    curr_hit_rate = new_hit_rate\n",
    "                    curr_cache_size = new_cache_size \n",
    "                    prev_index = index\n",
    "                    updates_times.append(index)\n",
    "                    updates_sizes.append(new_cache_size)\n",
    "                \n",
    "    return miss_speeds_all, updates_times, updates_sizes"
   ]
  },
  {
   "cell_type": "code",
   "execution_count": 33,
   "metadata": {},
   "outputs": [
    {
     "name": "stdout",
     "output_type": "stream",
     "text": [
      "Target miss speed:  0.0015384615384615387\n",
      "At 286172.Relerror:0.30000623074750293. Size from 5000 to 6871.0, HR from 0.8552190030546896 to 0.8869639396087237\n",
      "At 350976.Relerror:0.3000861344295086. Size from 6871.0 to 8401.0, HR from 0.8869639396087237 to 0.9117589868717344\n",
      "At 366556.Relerror:0.3000581041718689. Size from 8401.0 to 9858.0, HR from 0.9117589868717344 to 0.9311158084891518\n",
      "At 380818.Relerror:-0.30012221590137644. Size from 9858.0 to 7649.0, HR from 0.9311158084891518 to 0.9000796602833898\n",
      "At 439339.Relerror:0.30006922482279114. Size from 7649.0 to 9088.0, HR from 0.9000796602833898 to 0.921976829520721\n",
      "At 739271.Relerror:0.3001074904982891. Size from 9088.0 to 10718.0, HR from 0.921976829520721 to 0.9390881092913997\n",
      "At 1105957.Relerror:-0.30008049679338633. Size from 10718.0 to 8396.0, HR from 0.9390881092913997 to 0.9116774448493667\n",
      "At 1282823.Relerror:-0.3000089193227235. Size from 8396.0 to 6049.0, HR from 0.9116774448493667 to 0.8719225727135302\n"
     ]
    }
   ],
   "source": [
    "miss_speeds_all, t, v = dyn_scale(ecdf, moving_iats)"
   ]
  },
  {
   "cell_type": "code",
   "execution_count": 41,
   "metadata": {},
   "outputs": [
    {
     "name": "stdout",
     "output_type": "stream",
     "text": [
      "[0, 286172, 350976, 366556, 380818, 439339, 739271, 1105957, 1282823, 1348161, 1348161, 1348161, 1348161, 1348161, 1348161, 1348161, 1348161] [5000, 6871.0, 8401.0, 9858.0, 7649.0, 9088.0, 10718.0, 8396.0, 6049.0, 6049.0, 6049.0, 6049.0, 6049.0, 6049.0, 6049.0, 6049.0, 6049.0]\n"
     ]
    },
    {
     "data": {
      "image/png": "[encoded data removed]",
      "text/plain": [
       "<Figure size 504x288 with 2 Axes>"
      ]
     },
     "metadata": {},
     "output_type": "display_data"
    }
   ],
   "source": [
    "matplotlib.rcParams.update({'font.size': 12})\n",
    "fig, ax = plt.subplots()\n",
    "fig.set_size_inches(7, 4)\n",
    "ax.plot(miss_speeds_all,label=\"Observed cold start rate\",color='teal')\n",
    "ax.plot([(1.0/x)*0.1 for x in moving_iats], label=\"Without dynamic scaling\",color='0.8')\n",
    "ax.set_ylabel(\"Cold starts/second\")\n",
    "ax.set_xlabel(\"Time (s)\")\n",
    "ax.set_ylim((0))\n",
    "ax.axhline(0.0015, color='blue', label=\"Target\")\n",
    "ax2=ax.twinx()\n",
    "last_t = len(miss_speeds_all)\n",
    "t.append(last_t) # for the extrapolation\n",
    "v.append(v[-1]) # for extrapolation\n",
    "print(t,v)\n",
    "ax2.step(t,v,color='k',where='post', label=\"Memory Size\")\n",
    "ax2.set_ylim((0))\n",
    "ax2.set_ylabel(\"Memory Size (MB)\")\n",
    "ax.legend(loc='lower left')\n",
    "ax2.legend(loc='lower right')\n",
    "plt.savefig(\"dyn-scale-392-b.pdf\",dpi=600, bbox_inches=\"tight\")"
   ]
  },
  {
   "cell_type": "code",
   "execution_count": 28,
   "metadata": {},
   "outputs": [
    {
     "name": "stdout",
     "output_type": "stream",
     "text": [
      "[5000, 6871.0, 8401.0, 9858.0, 6691.0, 6691.0, 6691.0]\n"
     ]
    }
   ],
   "source": [
    "v.append(v[-1])\n",
    "print(v)"
   ]
  },
  {
   "cell_type": "code",
   "execution_count": 17,
   "metadata": {},
   "outputs": [
    {
     "data": {
      "text/plain": [
       "Text(0, 0.5, 'Server Memory Size (MB)')"
      ]
     },
     "execution_count": 17,
     "metadata": {},
     "output_type": "execute_result"
    },
    {
     "data": {
      "image/png": "[encoded data removed]",
      "text/plain": [
       "<Figure size 432x288 with 1 Axes>"
      ]
     },
     "metadata": {},
     "output_type": "display_data"
    }
   ],
   "source": [
    "plt.step(t,v, color='k',where='post')\n",
    "plt.ylim(0)\n",
    "plt.ylabel(\"Server Memory Size (MB)\")"
   ]
  },
  {
   "cell_type": "code",
   "execution_count": 124,
   "metadata": {},
   "outputs": [
    {
     "data": {
      "text/plain": [
       "[<matplotlib.lines.Line2D at 0x7fbb62edc358>]"
      ]
     },
     "execution_count": 124,
     "metadata": {},
     "output_type": "execute_result"
    },
    {
     "data": {
      "image/png": "[encoded data removed]",
      "text/plain": [
       "<Figure size 432x288 with 1 Axes>"
      ]
     },
     "metadata": {},
     "output_type": "display_data"
    }
   ],
   "source": [
    "plt.plot(moving_iats)"
   ]
  },
  {
   "cell_type": "code",
   "execution_count": null,
   "metadata": {},
   "outputs": [],
   "source": []
  },
  {
   "cell_type": "code",
   "execution_count": 25,
   "metadata": {},
   "outputs": [
    {
     "name": "stdout",
     "output_type": "stream",
     "text": [
      "0.7331563020824098\n"
     ]
    }
   ],
   "source": [
    "\n",
    "\n",
    "m_avg = (1-HR[20000])*lam_avg\n",
    "print(m_avg)"
   ]
  },
  {
   "cell_type": "code",
   "execution_count": 30,
   "metadata": {},
   "outputs": [],
   "source": [
    "piats = pd.Series(iats)"
   ]
  },
  {
   "cell_type": "code",
   "execution_count": 36,
   "metadata": {},
   "outputs": [
    {
     "data": {
      "text/plain": [
       "[<matplotlib.lines.Line2D at 0x7fdcb8b3a588>]"
      ]
     },
     "execution_count": 36,
     "metadata": {},
     "output_type": "execute_result"
    },
    {
     "data": {
      "image/png": "[encoded data removed]",
      "text/plain": [
       "<Figure size 432x288 with 1 Axes>"
      ]
     },
     "metadata": {},
     "output_type": "display_data"
    }
   ],
   "source": [
    "plt.plot(piats.rolling(3600).mean())"
   ]
  },
  {
   "cell_type": "code",
   "execution_count": null,
   "metadata": {},
   "outputs": [],
   "source": []
  },
  {
   "cell_type": "code",
   "execution_count": null,
   "metadata": {},
   "outputs": [],
   "source": []
  },
  {
   "cell_type": "code",
   "execution_count": null,
   "metadata": {},
   "outputs": [],
   "source": []
  },
  {
   "cell_type": "code",
   "execution_count": 227,
   "metadata": {},
   "outputs": [],
   "source": [
    "def SHARDS_reusedist(input_trace, R=0.01):\n",
    "    \"\"\" R is the sampling rate, like\"\"\"\n",
    "    #hash(k) % P < T\n",
    "    #R = T/P -> T=0.01P -> P > 100\n",
    "    P  = 10000 \n",
    "    T  = int(R*P)\n",
    "    \n",
    "    last_access = dict()\n",
    "    reuse_distances = []\n",
    "    current_bytes = 0\n",
    "    \n",
    "    for i, (d, t) in enumerate(input_trace):\n",
    "        k = d.kind \n",
    "        current_bytes += d.mem_size \n",
    "        if hash(k) % P < T: # chosen one \n",
    "            #Check if first access? \n",
    "            if k in last_access:\n",
    "                rd = (current_bytes - last_access[k]) - 2.0*d.mem_size \n",
    "                # Account for left and right access \n",
    "                last_access[k] = current_bytes \n",
    "                reuse_distances.append(rd)\n",
    "            else: # This is first access. \n",
    "                last_access[k] = current_bytes \n",
    "                #Ignore the reuse distance for the first access? \n",
    "    \n",
    "    reuse_distances = np.array(reuse_distances)\n",
    "    reuse_distances = reuse_distances*(1/R)\n",
    "    #print(last_access)\n",
    "    return reuse_distances\n",
    "            \n"
   ]
  },
  {
   "cell_type": "code",
   "execution_count": null,
   "metadata": {},
   "outputs": [],
   "source": []
  },
  {
   "cell_type": "code",
   "execution_count": 228,
   "metadata": {},
   "outputs": [],
   "source": [
    "srds = SHARDS_reusedist(input_trace,0.1)"
   ]
  },
  {
   "cell_type": "code",
   "execution_count": 229,
   "metadata": {},
   "outputs": [
    {
     "data": {
      "text/plain": [
       "array([61670., 67290.,  2050., ..., 63840., 23050., 25840.])"
      ]
     },
     "execution_count": 229,
     "metadata": {},
     "output_type": "execute_result"
    }
   ],
   "source": [
    "srds"
   ]
  },
  {
   "cell_type": "code",
   "execution_count": 236,
   "metadata": {},
   "outputs": [
    {
     "data": {
      "text/plain": [
       "(0.0, 200000.0)"
      ]
     },
     "execution_count": 236,
     "metadata": {},
     "output_type": "execute_result"
    },
    {
     "data": {
      "image/png": "[encoded data removed]",
      "text/plain": [
       "<Figure size 432x288 with 1 Axes>"
      ]
     },
     "metadata": {},
     "output_type": "display_data"
    }
   ],
   "source": [
    "e3=ECDF(srds*0.1)\n",
    "plt.plot(e3.x,e3.y)\n",
    "plt.xlim((0,200000))"
   ]
  },
  {
   "cell_type": "code",
   "execution_count": 221,
   "metadata": {},
   "outputs": [
    {
     "data": {
      "text/plain": [
       "(array([4.16661e+05, 2.90000e+01, 9.00000e+00, 3.00000e+00, 2.00000e+00,\n",
       "        3.00000e+00, 3.00000e+00, 1.00000e+00, 1.00000e+00, 2.00000e+00]),\n",
       " array([0.00000000e+00, 4.28157599e+08, 8.56315198e+08, 1.28447280e+09,\n",
       "        1.71263040e+09, 2.14078800e+09, 2.56894559e+09, 2.99710319e+09,\n",
       "        3.42526079e+09, 3.85341839e+09, 4.28157599e+09]),\n",
       " <BarContainer object of 10 artists>)"
      ]
     },
     "execution_count": 221,
     "metadata": {},
     "output_type": "execute_result"
    },
    {
     "data": {
      "image/png": "[encoded data removed]",
      "text/plain": [
       "<Figure size 432x288 with 1 Axes>"
      ]
     },
     "metadata": {},
     "output_type": "display_data"
    }
   ],
   "source": [
    "plt.hist(srds)"
   ]
  },
  {
   "cell_type": "code",
   "execution_count": 185,
   "metadata": {},
   "outputs": [],
   "source": [
    "# a, b, c, b, a\n",
    "# <----------->\n",
    "# reuse dist = size of unique accesses\n",
    "# reuse dist = size(b) + size(c)\n",
    "N = len(input_trace)\n",
    "\n",
    "reuse_distances = []\n",
    "reuse_times = []\n",
    "\n",
    "for i, (d_left, t_left) in enumerate(input_trace):\n",
    "    left_kind = d_left.kind\n",
    "    local_reuse_set = dict()\n",
    "    \n",
    "    for j in range(i+1, N):\n",
    "        d, t = input_trace[j]\n",
    "        \n",
    "        if d.kind == left_kind or j == N :\n",
    "            # We have found the back marker.\n",
    "            current_rd = sum(local_reuse_set.values()) \n",
    "            # TODO: falling of the end\n",
    "            reuse_distances.append(current_rd)\n",
    "            reuse_times.append(t-t_left)\n",
    "            break\n",
    "        \n",
    "        # if different from left_kind \n",
    "        local_reuse_set[d.kind] = d.mem_size\n",
    "        \n",
    "reuse_distances = np.array(reuse_distances)\n",
    "reuse_times = np.array(reuse_times)"
   ]
  },
  {
   "cell_type": "code",
   "execution_count": 186,
   "metadata": {},
   "outputs": [
    {
     "data": {
      "text/plain": [
       "array([0, 0, 0, ..., 0, 0, 0])"
      ]
     },
     "execution_count": 186,
     "metadata": {},
     "output_type": "execute_result"
    }
   ],
   "source": [
    "reuse_distances"
   ]
  },
  {
   "cell_type": "code",
   "execution_count": 187,
   "metadata": {},
   "outputs": [],
   "source": []
  },
  {
   "cell_type": "code",
   "execution_count": 188,
   "metadata": {},
   "outputs": [
    {
     "data": {
      "text/plain": [
       "array([ 4000.,  4000.,  4000., ..., 10000., 10000., 10000.])"
      ]
     },
     "execution_count": 188,
     "metadata": {},
     "output_type": "execute_result"
    }
   ],
   "source": [
    "reuse_times"
   ]
  },
  {
   "cell_type": "code",
   "execution_count": 189,
   "metadata": {},
   "outputs": [],
   "source": [
    "def hit_rate(cache_size):\n",
    "    e=ECDF(reuse_distances)\n",
    "    hit_rate = e.y[find_nearest_idx(e.x,cache_size)]\n",
    "    return hit_rate"
   ]
  },
  {
   "cell_type": "code",
   "execution_count": 190,
   "metadata": {},
   "outputs": [
    {
     "data": {
      "text/plain": [
       "0.9989329539391784"
      ]
     },
     "execution_count": 190,
     "metadata": {},
     "output_type": "execute_result"
    }
   ],
   "source": [
    "hit_rate(100)"
   ]
  },
  {
   "cell_type": "code",
   "execution_count": 191,
   "metadata": {},
   "outputs": [
    {
     "data": {
      "text/plain": [
       "Text(0, 0.5, 'Hit Ratio')"
      ]
     },
     "execution_count": 191,
     "metadata": {},
     "output_type": "execute_result"
    },
    {
     "data": {
      "image/png": "[encoded data removed]",
      "text/plain": [
       "<Figure size 432x288 with 1 Axes>"
      ]
     },
     "metadata": {},
     "output_type": "display_data"
    }
   ],
   "source": [
    "e=ECDF(reuse_distances)\n",
    "plt.plot(e.x,e.y)\n",
    "#plt.semilogy()\n",
    "plt.xlabel(\"Cache Size\")\n",
    "plt.ylabel(\"Hit Ratio\")"
   ]
  },
  {
   "cell_type": "code",
   "execution_count": 15,
   "metadata": {},
   "outputs": [
    {
     "ename": "TypeError",
     "evalue": "'>' not supported between instances of 'list' and 'int'",
     "output_type": "error",
     "traceback": [
      "\u001b[0;31m---------------------------------------------------------------------------\u001b[0m",
      "\u001b[0;31mTypeError\u001b[0m                                 Traceback (most recent call last)",
      "\u001b[0;32m<ipython-input-15-4d03d37264de>\u001b[0m in \u001b[0;36m<module>\u001b[0;34m()\u001b[0m\n\u001b[0;32m----> 1\u001b[0;31m \u001b[0mreuse_times\u001b[0m\u001b[0;34m[\u001b[0m\u001b[0mreuse_times\u001b[0m\u001b[0;34m>\u001b[0m\u001b[0;36m1000\u001b[0m\u001b[0;34m]\u001b[0m\u001b[0;34m\u001b[0m\u001b[0;34m\u001b[0m\u001b[0m\n\u001b[0m",
      "\u001b[0;31mTypeError\u001b[0m: '>' not supported between instances of 'list' and 'int'"
     ]
    }
   ],
   "source": [
    "reuse_times[reuse_times>1000]"
   ]
  },
  {
   "cell_type": "markdown",
   "metadata": {},
   "source": []
  },
  {
   "cell_type": "code",
   "execution_count": 89,
   "metadata": {},
   "outputs": [],
   "source": [
    "et = ECDF(reuse_times)"
   ]
  },
  {
   "cell_type": "code",
   "execution_count": 90,
   "metadata": {},
   "outputs": [
    {
     "data": {
      "text/plain": [
       "[<matplotlib.lines.Line2D at 0x7f5d85a54cc0>]"
      ]
     },
     "execution_count": 90,
     "metadata": {},
     "output_type": "execute_result"
    },
    {
     "data": {
      "image/png": "[encoded data removed]",
      "text/plain": [
       "<matplotlib.figure.Figure at 0x7f5d85ba1438>"
      ]
     },
     "metadata": {},
     "output_type": "display_data"
    }
   ],
   "source": [
    "plt.plot(et.x, et.y)"
   ]
  },
  {
   "cell_type": "code",
   "execution_count": 8,
   "metadata": {},
   "outputs": [
    {
     "data": {
      "text/plain": [
       "<zip at 0x7f730e44e1c8>"
      ]
     },
     "execution_count": 8,
     "metadata": {},
     "output_type": "execute_result"
    }
   ],
   "source": [
    "zip(reuse_distances, reuse_times)"
   ]
  },
  {
   "cell_type": "code",
   "execution_count": 12,
   "metadata": {},
   "outputs": [],
   "source": [
    "import seaborn as sns"
   ]
  },
  {
   "cell_type": "code",
   "execution_count": 27,
   "metadata": {},
   "outputs": [
    {
     "name": "stderr",
     "output_type": "stream",
     "text": [
      "/usr/lib/python3/dist-packages/statsmodels/nonparametric/kernels.py:128: RuntimeWarning: divide by zero encountered in true_divide\n",
      "  return (1. / np.sqrt(2 * np.pi)) * np.exp(-(Xi - x)**2 / (h**2 * 2.))\n",
      "/usr/lib/python3/dist-packages/statsmodels/nonparametric/kernels.py:128: RuntimeWarning: invalid value encountered in true_divide\n",
      "  return (1. / np.sqrt(2 * np.pi)) * np.exp(-(Xi - x)**2 / (h**2 * 2.))\n",
      "/usr/lib/python3/dist-packages/statsmodels/nonparametric/_kernel_base.py:514: RuntimeWarning: invalid value encountered in true_divide\n",
      "  dens = Kval.prod(axis=1) / np.prod(bw[iscontinuous])\n",
      "/usr/local/lib/python3.6/dist-packages/matplotlib/contour.py:1494: UserWarning: Warning: converting a masked element to nan.\n",
      "  self.zmax = float(z.max())\n",
      "/usr/local/lib/python3.6/dist-packages/matplotlib/contour.py:1495: UserWarning: Warning: converting a masked element to nan.\n",
      "  self.zmin = float(z.min())\n",
      "/usr/local/lib/python3.6/dist-packages/matplotlib/contour.py:1130: RuntimeWarning: invalid value encountered in less\n",
      "  under = np.nonzero(lev < self.zmin)[0]\n",
      "/usr/local/lib/python3.6/dist-packages/matplotlib/contour.py:1132: RuntimeWarning: invalid value encountered in greater\n",
      "  over = np.nonzero(lev > self.zmax)[0]\n",
      "/usr/local/lib/python3.6/dist-packages/matplotlib/contour.py:1161: RuntimeWarning: invalid value encountered in greater\n",
      "  inside = (self.levels > self.zmin) & (self.levels < self.zmax)\n",
      "/usr/local/lib/python3.6/dist-packages/matplotlib/contour.py:1161: RuntimeWarning: invalid value encountered in less\n",
      "  inside = (self.levels > self.zmin) & (self.levels < self.zmax)\n",
      "/usr/local/lib/python3.6/dist-packages/seaborn/distributions.py:434: UserWarning: No contour levels were found within the data range.\n",
      "  cset = contour_func(xx, yy, z, n_levels, **kwargs)\n"
     ]
    },
    {
     "data": {
      "text/plain": [
       "<AxesSubplot:>"
      ]
     },
     "execution_count": 27,
     "metadata": {},
     "output_type": "execute_result"
    },
    {
     "data": {
      "image/png": "[encoded data removed]",
      "text/plain": [
       "<Figure size 432x288 with 1 Axes>"
      ]
     },
     "metadata": {},
     "output_type": "display_data"
    }
   ],
   "source": [
    "sns.kdeplot(reuse_distances, reuse_times)"
   ]
  },
  {
   "cell_type": "code",
   "execution_count": 92,
   "metadata": {},
   "outputs": [
    {
     "data": {
      "text/plain": [
       "(30000, 57907.5049283154)"
      ]
     },
     "execution_count": 92,
     "metadata": {},
     "output_type": "execute_result"
    },
    {
     "data": {
      "image/png": "[encoded data removed]",
      "text/plain": [
       "<matplotlib.figure.Figure at 0x7f5d78c53438>"
      ]
     },
     "metadata": {},
     "output_type": "display_data"
    }
   ],
   "source": [
    "plt.scatter(reuse_distances, reuse_times/1000.0, marker='.')\n",
    "plt.semilogy()\n",
    "plt.xlabel(\"Reuse Distance\")\n",
    "plt.ylabel(\"Reuse Time X 1000\")\n",
    "plt.xlim((30000))"
   ]
  },
  {
   "cell_type": "code",
   "execution_count": null,
   "metadata": {},
   "outputs": [],
   "source": [
    "# P(s,t) needed for footprint descr\n",
    "# P(t|s) relatively easier to compute \n",
    "# P(s,t) = P(s|t)P(t)\n",
    "# P(s,t) = P(t|s)P(s)\n",
    "#P(s|t) = P(t|s)P(s)/P(t) Bayes "
   ]
  },
  {
   "cell_type": "code",
   "execution_count": 36,
   "metadata": {},
   "outputs": [],
   "source": [
    "from scipy import stats"
   ]
  },
  {
   "cell_type": "code",
   "execution_count": 57,
   "metadata": {},
   "outputs": [],
   "source": [
    "xmin, xmax, ymin, ymax = reuse_distances.min(), reuse_distances.max(), reuse_times.min(), reuse_times.max()"
   ]
  },
  {
   "cell_type": "code",
   "execution_count": 105,
   "metadata": {},
   "outputs": [],
   "source": [
    "kernel = stats.gaussian_kde(np.vstack([reuse_distances, reuse_times]))"
   ]
  },
  {
   "cell_type": "code",
   "execution_count": 94,
   "metadata": {},
   "outputs": [
    {
     "data": {
      "text/plain": [
       "array([1.43160455e-09])"
      ]
     },
     "execution_count": 94,
     "metadata": {},
     "output_type": "execute_result"
    }
   ],
   "source": [
    "kernel.pdf([40,10000])"
   ]
  },
  {
   "cell_type": "code",
   "execution_count": 82,
   "metadata": {},
   "outputs": [],
   "source": [
    "X,Y=np.mgrid[xmin:xmax:100j, ymin:ymax:100j]"
   ]
  },
  {
   "cell_type": "code",
   "execution_count": 83,
   "metadata": {},
   "outputs": [
    {
     "data": {
      "text/plain": [
       "(100, 100)"
      ]
     },
     "execution_count": 83,
     "metadata": {},
     "output_type": "execute_result"
    }
   ],
   "source": [
    "Y.shape"
   ]
  },
  {
   "cell_type": "code",
   "execution_count": 101,
   "metadata": {},
   "outputs": [],
   "source": [
    "positions = np.vstack([X.ravel(), Y.ravel()])"
   ]
  },
  {
   "cell_type": "code",
   "execution_count": 110,
   "metadata": {},
   "outputs": [
    {
     "data": {
      "text/plain": [
       "array([3.93083851e-07])"
      ]
     },
     "execution_count": 110,
     "metadata": {},
     "output_type": "execute_result"
    }
   ],
   "source": [
    "kernel([0,1000])"
   ]
  },
  {
   "cell_type": "code",
   "execution_count": 139,
   "metadata": {},
   "outputs": [],
   "source": [
    "Z = np.reshape(kernel(positions).T, X.shape)"
   ]
  },
  {
   "cell_type": "code",
   "execution_count": 115,
   "metadata": {},
   "outputs": [],
   "source": [
    "Z = Z/np.max(Z)"
   ]
  },
  {
   "cell_type": "code",
   "execution_count": 141,
   "metadata": {},
   "outputs": [
    {
     "data": {
      "text/plain": [
       "(220.5882352925837, 37680000.0)"
      ]
     },
     "execution_count": 141,
     "metadata": {},
     "output_type": "execute_result"
    },
    {
     "data": {
      "image/png": "[encoded data removed]",
      "text/plain": [
       "<Figure size 360x1800 with 1 Axes>"
      ]
     },
     "metadata": {},
     "output_type": "display_data"
    }
   ],
   "source": [
    "fig, ax = plt.subplots()\n",
    "fig.set_size_inches((5,25))\n",
    "ax.imshow(np.rot90(Z), extent=[xmin,1,ymin,ymax],cmap=plt.cm.gist_earth_r)\n",
    "ax.semilogy()\n",
    "ax.set_xlim([xmin, 1])\n",
    "ax.set_ylim([ymin, ymax])"
   ]
  },
  {
   "cell_type": "code",
   "execution_count": 53,
   "metadata": {},
   "outputs": [],
   "source": [
    "def measure(n):\n",
    "\n",
    "    \"Measurement model, return two coupled measurements.\"\n",
    "\n",
    "    m1 = np.random.normal(size=n)\n",
    "\n",
    "    m2 = np.random.normal(scale=0.5, size=n)\n",
    "\n",
    "    return m1+m2, m1-m2"
   ]
  },
  {
   "cell_type": "code",
   "execution_count": 54,
   "metadata": {},
   "outputs": [],
   "source": [
    "m1, m2 = measure(2000)\n",
    "\n",
    "xmin = m1.min()\n",
    "\n",
    "xmax = m1.max()\n",
    "\n",
    "ymin = m2.min()\n",
    "\n",
    "ymax = m2.max()"
   ]
  },
  {
   "cell_type": "code",
   "execution_count": 55,
   "metadata": {},
   "outputs": [],
   "source": [
    "X, Y = np.mgrid[xmin:xmax:100j, ymin:ymax:100j]\n",
    "\n",
    "positions = np.vstack([X.ravel(), Y.ravel()])\n",
    "\n",
    "values = np.vstack([m1, m2])\n",
    "\n",
    "kernel = stats.gaussian_kde(values)\n",
    "\n",
    "Z = np.reshape(kernel(positions).T, X.shape)"
   ]
  },
  {
   "cell_type": "code",
   "execution_count": 56,
   "metadata": {},
   "outputs": [
    {
     "data": {
      "text/plain": [
       "(100, 100)"
      ]
     },
     "execution_count": 56,
     "metadata": {},
     "output_type": "execute_result"
    }
   ],
   "source": []
  },
  {
   "cell_type": "code",
   "execution_count": null,
   "metadata": {},
   "outputs": [],
   "source": []
  }
 ],
 "metadata": {
  "kernelspec": {
   "display_name": "Python 3",
   "language": "python",
   "name": "python3"
  },
  "language_info": {
   "codemirror_mode": {
    "name": "ipython",
    "version": 3
   },
   "file_extension": ".py",
   "mimetype": "text/x-python",
   "name": "python",
   "nbconvert_exporter": "python",
   "pygments_lexer": "ipython3",
   "version": "3.6.9"
  }
 },
 "nbformat": 4,
 "nbformat_minor": 2
}
